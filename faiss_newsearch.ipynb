{
  "nbformat": 4,
  "nbformat_minor": 0,
  "metadata": {
    "colab": {
      "name": "faiss-newsearch.ipynb",
      "provenance": [],
      "collapsed_sections": [],
      "authorship_tag": "ABX9TyMf7KYI4ybVFEE0FeD5Bjl+",
      "include_colab_link": true
    },
    "kernelspec": {
      "name": "python3",
      "display_name": "Python 3"
    },
    "language_info": {
      "name": "python"
    }
  },
  "cells": [
    {
      "cell_type": "markdown",
      "metadata": {
        "id": "view-in-github",
        "colab_type": "text"
      },
      "source": [
        "<a href=\"https://colab.research.google.com/github/ValdazoAmerico/faiss-search/blob/main/faiss_newsearch.ipynb\" target=\"_parent\"><img src=\"https://colab.research.google.com/assets/colab-badge.svg\" alt=\"Open In Colab\"/></a>"
      ]
    },
    {
      "cell_type": "code",
      "metadata": {
        "id": "SKhM5Uur-qyr"
      },
      "source": [
        "import numpy as np"
      ],
      "execution_count": null,
      "outputs": []
    },
    {
      "cell_type": "code",
      "metadata": {
        "colab": {
          "base_uri": "https://localhost:8080/"
        },
        "id": "NgZrM7taAJE-",
        "outputId": "702027b3-674f-46a3-a2cb-d7a7ad9654ac"
      },
      "source": [
        "pip install sentence_transformers"
      ],
      "execution_count": null,
      "outputs": [
        {
          "output_type": "stream",
          "text": [
            "Collecting sentence_transformers\n",
            "  Downloading sentence-transformers-2.0.0.tar.gz (85 kB)\n",
            "\u001b[K     |████████████████████████████████| 85 kB 2.0 MB/s \n",
            "\u001b[?25hCollecting transformers<5.0.0,>=4.6.0\n",
            "  Downloading transformers-4.8.2-py3-none-any.whl (2.5 MB)\n",
            "\u001b[K     |████████████████████████████████| 2.5 MB 5.0 MB/s \n",
            "\u001b[?25hRequirement already satisfied: tqdm in /usr/local/lib/python3.7/dist-packages (from sentence_transformers) (4.41.1)\n",
            "Requirement already satisfied: torch>=1.6.0 in /usr/local/lib/python3.7/dist-packages (from sentence_transformers) (1.9.0+cu102)\n",
            "Requirement already satisfied: torchvision in /usr/local/lib/python3.7/dist-packages (from sentence_transformers) (0.10.0+cu102)\n",
            "Requirement already satisfied: numpy in /usr/local/lib/python3.7/dist-packages (from sentence_transformers) (1.19.5)\n",
            "Requirement already satisfied: scikit-learn in /usr/local/lib/python3.7/dist-packages (from sentence_transformers) (0.22.2.post1)\n",
            "Requirement already satisfied: scipy in /usr/local/lib/python3.7/dist-packages (from sentence_transformers) (1.4.1)\n",
            "Requirement already satisfied: nltk in /usr/local/lib/python3.7/dist-packages (from sentence_transformers) (3.2.5)\n",
            "Collecting sentencepiece\n",
            "  Downloading sentencepiece-0.1.96-cp37-cp37m-manylinux_2_17_x86_64.manylinux2014_x86_64.whl (1.2 MB)\n",
            "\u001b[K     |████████████████████████████████| 1.2 MB 18.6 MB/s \n",
            "\u001b[?25hCollecting huggingface-hub\n",
            "  Downloading huggingface_hub-0.0.14-py3-none-any.whl (43 kB)\n",
            "\u001b[K     |████████████████████████████████| 43 kB 1.5 MB/s \n",
            "\u001b[?25hRequirement already satisfied: typing-extensions in /usr/local/lib/python3.7/dist-packages (from torch>=1.6.0->sentence_transformers) (3.7.4.3)\n",
            "Requirement already satisfied: regex!=2019.12.17 in /usr/local/lib/python3.7/dist-packages (from transformers<5.0.0,>=4.6.0->sentence_transformers) (2019.12.20)\n",
            "Requirement already satisfied: requests in /usr/local/lib/python3.7/dist-packages (from transformers<5.0.0,>=4.6.0->sentence_transformers) (2.23.0)\n",
            "Collecting sacremoses\n",
            "  Downloading sacremoses-0.0.45-py3-none-any.whl (895 kB)\n",
            "\u001b[K     |████████████████████████████████| 895 kB 18.6 MB/s \n",
            "\u001b[?25hRequirement already satisfied: filelock in /usr/local/lib/python3.7/dist-packages (from transformers<5.0.0,>=4.6.0->sentence_transformers) (3.0.12)\n",
            "Requirement already satisfied: packaging in /usr/local/lib/python3.7/dist-packages (from transformers<5.0.0,>=4.6.0->sentence_transformers) (21.0)\n",
            "Collecting huggingface-hub\n",
            "  Downloading huggingface_hub-0.0.12-py3-none-any.whl (37 kB)\n",
            "Requirement already satisfied: pyyaml in /usr/local/lib/python3.7/dist-packages (from transformers<5.0.0,>=4.6.0->sentence_transformers) (3.13)\n",
            "Collecting tokenizers<0.11,>=0.10.1\n",
            "  Downloading tokenizers-0.10.3-cp37-cp37m-manylinux_2_5_x86_64.manylinux1_x86_64.manylinux_2_12_x86_64.manylinux2010_x86_64.whl (3.3 MB)\n",
            "\u001b[K     |████████████████████████████████| 3.3 MB 35.4 MB/s \n",
            "\u001b[?25hRequirement already satisfied: importlib-metadata in /usr/local/lib/python3.7/dist-packages (from transformers<5.0.0,>=4.6.0->sentence_transformers) (4.6.1)\n",
            "Requirement already satisfied: pyparsing>=2.0.2 in /usr/local/lib/python3.7/dist-packages (from packaging->transformers<5.0.0,>=4.6.0->sentence_transformers) (2.4.7)\n",
            "Requirement already satisfied: zipp>=0.5 in /usr/local/lib/python3.7/dist-packages (from importlib-metadata->transformers<5.0.0,>=4.6.0->sentence_transformers) (3.5.0)\n",
            "Requirement already satisfied: six in /usr/local/lib/python3.7/dist-packages (from nltk->sentence_transformers) (1.15.0)\n",
            "Requirement already satisfied: urllib3!=1.25.0,!=1.25.1,<1.26,>=1.21.1 in /usr/local/lib/python3.7/dist-packages (from requests->transformers<5.0.0,>=4.6.0->sentence_transformers) (1.24.3)\n",
            "Requirement already satisfied: certifi>=2017.4.17 in /usr/local/lib/python3.7/dist-packages (from requests->transformers<5.0.0,>=4.6.0->sentence_transformers) (2021.5.30)\n",
            "Requirement already satisfied: idna<3,>=2.5 in /usr/local/lib/python3.7/dist-packages (from requests->transformers<5.0.0,>=4.6.0->sentence_transformers) (2.10)\n",
            "Requirement already satisfied: chardet<4,>=3.0.2 in /usr/local/lib/python3.7/dist-packages (from requests->transformers<5.0.0,>=4.6.0->sentence_transformers) (3.0.4)\n",
            "Requirement already satisfied: click in /usr/local/lib/python3.7/dist-packages (from sacremoses->transformers<5.0.0,>=4.6.0->sentence_transformers) (7.1.2)\n",
            "Requirement already satisfied: joblib in /usr/local/lib/python3.7/dist-packages (from sacremoses->transformers<5.0.0,>=4.6.0->sentence_transformers) (1.0.1)\n",
            "Requirement already satisfied: pillow>=5.3.0 in /usr/local/lib/python3.7/dist-packages (from torchvision->sentence_transformers) (7.1.2)\n",
            "Building wheels for collected packages: sentence-transformers\n",
            "  Building wheel for sentence-transformers (setup.py) ... \u001b[?25l\u001b[?25hdone\n",
            "  Created wheel for sentence-transformers: filename=sentence_transformers-2.0.0-py3-none-any.whl size=126709 sha256=9b419ba354b70e570240e21002e27aabde7821e5a5bc5b3261742624e5b9bca9\n",
            "  Stored in directory: /root/.cache/pip/wheels/d1/c1/0f/faafd427f705c4b012274ba60d9a91d75830306811e1355293\n",
            "Successfully built sentence-transformers\n",
            "Installing collected packages: tokenizers, sacremoses, huggingface-hub, transformers, sentencepiece, sentence-transformers\n",
            "Successfully installed huggingface-hub-0.0.12 sacremoses-0.0.45 sentence-transformers-2.0.0 sentencepiece-0.1.96 tokenizers-0.10.3 transformers-4.8.2\n"
          ],
          "name": "stdout"
        }
      ]
    },
    {
      "cell_type": "code",
      "metadata": {
        "id": "DX3L_9On_7M4"
      },
      "source": [
        "from sentence_transformers import SentenceTransformer\n",
        "\n",
        "model_faiss = SentenceTransformer(\"bert-base-nli-mean-tokens\")"
      ],
      "execution_count": null,
      "outputs": []
    },
    {
      "cell_type": "code",
      "metadata": {
        "colab": {
          "base_uri": "https://localhost:8080/"
        },
        "id": "_MzuTNXJAFY8",
        "outputId": "f41c8fe5-f192-4e3f-a084-feffcbc9d788"
      },
      "source": [
        "model.encode(['hello world'])"
      ],
      "execution_count": null,
      "outputs": [
        {
          "output_type": "execute_result",
          "data": {
            "text/plain": [
              "array([[-1.50538713e-01,  5.29025160e-02,  2.08420134e+00,\n",
              "         1.41297638e-01,  4.38929975e-01,  1.24937445e-01,\n",
              "         3.32377583e-01,  1.05838096e+00,  6.03558868e-03,\n",
              "        -8.61336961e-02, -9.99487221e-01,  3.18820477e-01,\n",
              "        -4.51345928e-03,  5.95006585e-01,  7.58371294e-01,\n",
              "         1.64414883e-01, -8.48956406e-01, -9.83352885e-02,\n",
              "        -6.95176199e-02, -3.47868204e-01, -8.61892700e-01,\n",
              "        -8.10270756e-02, -3.24415594e-01, -1.15120077e+00,\n",
              "         9.96495932e-02, -7.85229802e-01,  4.35979366e-01,\n",
              "        -1.60889244e+00, -2.26758748e-01,  9.49694291e-02,\n",
              "        -4.74193126e-01, -3.08338910e-01,  1.11107028e+00,\n",
              "        -2.29384094e-01, -5.38672745e-01,  8.46415043e-01,\n",
              "        -9.40801740e-01,  1.99518144e-01, -2.74196357e-01,\n",
              "        -1.69324651e-01,  1.96000838e+00, -3.42636377e-01,\n",
              "         1.46522021e+00,  3.53447348e-01, -9.44688439e-01,\n",
              "        -3.38534683e-01, -2.87146598e-01,  5.31773686e-01,\n",
              "        -8.19039568e-02, -1.20050502e+00, -6.74837589e-01,\n",
              "        -4.64239836e-01, -9.68088880e-02,  1.49042621e-01,\n",
              "        -6.77207410e-02, -2.45210588e-01,  2.98529416e-01,\n",
              "        -8.14415932e-01,  5.22688508e-01,  5.07536769e-01,\n",
              "         7.70004809e-01, -7.79436946e-01,  1.04941940e+00,\n",
              "         5.72393656e-01, -3.00328910e-01,  4.54096019e-01,\n",
              "         9.57809091e-01,  1.60667822e-02, -3.92769575e-01,\n",
              "         6.18242145e-01,  1.06613958e+00, -2.47402117e-01,\n",
              "        -1.30153179e-01,  2.11353093e-01, -1.26151061e+00,\n",
              "        -3.91691566e-01,  7.09882736e-01,  6.71412349e-01,\n",
              "         3.06021631e-01,  4.69786048e-01,  7.90605664e-01,\n",
              "        -1.99361369e-02,  1.43400311e+00,  5.81588507e-01,\n",
              "        -6.19740129e-01,  8.25775146e-01,  1.60003617e-01,\n",
              "         5.29574633e-01, -2.08416200e+00,  5.72367072e-01,\n",
              "         1.28556311e-01, -3.62553269e-01,  1.02045223e-01,\n",
              "         3.43256146e-01,  6.65461063e-01, -6.47856444e-02,\n",
              "         1.60769373e-01, -7.16409385e-01, -1.05951197e-01,\n",
              "        -5.75769305e-01, -4.03774559e-01, -2.83072889e-01,\n",
              "        -4.78410721e-01, -1.65902197e-01, -2.46049091e-02,\n",
              "         1.60024390e-01,  2.44468302e-01, -1.15794897e+00,\n",
              "         8.35206509e-02,  3.81787002e-01,  3.07873428e-01,\n",
              "        -1.42790258e-01,  9.04427826e-01,  1.48733735e-01,\n",
              "         3.29204112e-01,  9.82241631e-02, -1.65110934e+00,\n",
              "         1.46171629e-01, -3.31254214e-01,  9.25693870e-01,\n",
              "         2.10257053e-01,  9.25394773e-01, -4.20293033e-01,\n",
              "        -3.87373239e-01,  1.26566660e+00,  6.47377148e-02,\n",
              "        -2.51884937e-01, -7.58298486e-02, -1.21347547e+00,\n",
              "         6.52049929e-02, -1.78481102e-01,  4.13956732e-01,\n",
              "         1.47386760e-01,  1.53446913e-01,  4.71750647e-02,\n",
              "         3.92797083e-01, -7.34308958e-02, -4.18816686e-01,\n",
              "        -4.35786873e-01, -4.56408486e-02, -1.31903911e+00,\n",
              "         6.38848007e-01, -4.95929062e-01,  5.60342312e-01,\n",
              "         3.53250265e-01,  3.73787433e-02,  3.85766864e-01,\n",
              "         4.19153154e-01, -5.95841885e-01,  1.55034736e-02,\n",
              "        -5.63566089e-01,  2.14920089e-01, -4.52985734e-01,\n",
              "        -9.09931839e-01, -6.86188281e-01, -2.36313701e-01,\n",
              "        -8.86038184e-01,  9.44404185e-01,  3.49824429e-01,\n",
              "         4.09633696e-01,  3.16628143e-02,  1.05304575e+00,\n",
              "         4.14682865e-01,  2.01465338e-02, -1.96841985e-01,\n",
              "         2.07471073e-01,  1.07968152e+00,  8.99360538e-01,\n",
              "         5.53460062e-01, -2.10748091e-02,  8.37323904e-01,\n",
              "        -1.04492331e+00, -5.09608872e-02,  6.52321279e-01,\n",
              "        -2.43520111e-01,  1.91668674e-01,  1.44066763e+00,\n",
              "         8.07126641e-01,  7.59160399e-01, -1.23589560e-01,\n",
              "         3.77440512e-01, -1.79213583e-01,  1.19209015e+00,\n",
              "        -9.49674964e-01, -1.51758641e-01, -5.38326442e-01,\n",
              "        -5.59498787e-01,  1.92458063e-01,  4.43455875e-01,\n",
              "         2.20565856e-01,  3.63883018e-01, -1.04457760e+00,\n",
              "        -4.17409658e-01, -1.23113286e+00, -1.68329671e-01,\n",
              "         4.66448218e-01, -2.03318298e-02,  4.95503485e-01,\n",
              "        -2.00119346e-01,  8.76011401e-02,  1.54529560e+00,\n",
              "        -1.84431434e-01,  7.69058049e-01, -7.28549659e-02,\n",
              "         1.12033010e+00,  1.00549424e+00, -6.89128697e-01,\n",
              "         4.93361175e-01,  3.30492198e-01, -2.29435831e-01,\n",
              "        -9.86337602e-01,  5.53563178e-01,  9.65688348e-01,\n",
              "        -1.18250512e-02,  1.93513706e-01, -5.05881190e-01,\n",
              "         1.11431360e+00, -2.15949923e-01, -1.63145041e+00,\n",
              "         3.01176965e-01,  3.54588389e-01,  1.83477327e-01,\n",
              "         3.74231070e-01, -3.04960072e-01, -5.82557619e-01,\n",
              "         5.79951584e-01,  9.06694531e-01, -7.88972378e-01,\n",
              "        -4.25725669e-01, -5.66780984e-01,  6.75058126e-01,\n",
              "        -3.62883240e-01,  2.34949097e-01,  1.02367711e+00,\n",
              "        -7.03948438e-02,  6.05815291e-01,  2.30656415e-01,\n",
              "        -5.22047818e-01, -2.72133380e-01,  8.64622831e-01,\n",
              "        -6.72184601e-02,  8.17863405e-01, -1.84304923e-01,\n",
              "         5.71534872e-01, -1.55557132e+00, -1.04488158e+00,\n",
              "         9.53470051e-01, -3.89442116e-01, -2.44839758e-01,\n",
              "         9.54024017e-01, -1.59297213e-01, -1.49006677e+00,\n",
              "         1.87839881e-01, -5.37495241e-02,  4.48883832e-01,\n",
              "        -2.26345122e-01, -5.83917499e-01, -2.47318864e-01,\n",
              "         1.45066231e-01, -2.03281000e-01, -3.53548303e-02,\n",
              "        -4.11652446e-01, -5.78002810e-01, -2.00336769e-01,\n",
              "        -8.09918761e-01, -7.06835449e-01, -3.36039931e-01,\n",
              "         4.66723800e-01,  1.20969422e-01,  2.88722128e-01,\n",
              "        -5.04437625e-01,  3.76555711e-01, -1.72040135e-01,\n",
              "        -3.88717353e-01,  5.59033275e-01, -3.66747111e-01,\n",
              "         8.31793785e-01,  2.95303047e-01, -3.62560838e-01,\n",
              "        -1.23950139e-01, -1.68047935e-01, -1.36726767e-01,\n",
              "        -2.81233501e+00, -6.94110274e-01,  6.49663210e-01,\n",
              "         2.14611024e-01,  6.80610895e-01, -1.04190183e+00,\n",
              "        -7.51978338e-01,  2.01740146e-01, -5.14277279e-01,\n",
              "        -5.06371737e-01,  2.86010116e-01, -8.39363337e-01,\n",
              "         6.65472746e-01, -6.15757883e-01,  1.16804338e+00,\n",
              "        -2.29835995e-02, -1.09362102e+00,  6.10489964e-01,\n",
              "        -5.87370455e-01,  2.89180279e-02, -6.68747067e-01,\n",
              "        -4.65550989e-01,  1.25092074e-01, -4.45693612e-01,\n",
              "        -5.57518080e-02, -6.91618800e-01, -7.49854565e-01,\n",
              "        -2.48227805e-01, -1.15528190e+00, -1.26507655e-02,\n",
              "         4.56437804e-02, -3.75414282e-01,  4.03611839e-01,\n",
              "         5.27693212e-01, -6.44967616e-01,  1.20636022e+00,\n",
              "         5.27692199e-01, -9.20788527e-01, -8.49776864e-01,\n",
              "         3.31330627e-01, -8.32630098e-02,  9.39268917e-02,\n",
              "         7.64037669e-02,  1.11175120e-01, -5.59561670e-01,\n",
              "         2.56095558e-01, -3.36512178e-01, -3.05544019e-01,\n",
              "         4.10733074e-01, -2.73205876e-01,  1.26799539e-01,\n",
              "         2.17372343e-01,  6.10453188e-01,  7.99949944e-01,\n",
              "        -5.55804253e-01, -8.71322513e-01,  9.58020151e-01,\n",
              "         1.18143827e-01, -3.12899053e-02, -2.33592376e-01,\n",
              "        -8.97317976e-02, -3.12000632e-01,  1.57649469e+00,\n",
              "        -9.05757666e-01,  5.05395234e-04, -1.25782430e+00,\n",
              "         7.39647090e-01, -5.89307070e-01, -3.33913743e-01,\n",
              "        -3.10541689e-01, -5.66359639e-01, -7.70246565e-01,\n",
              "        -7.99052119e-01, -3.94200087e-01,  6.76274657e-01,\n",
              "        -7.53875136e-01,  1.74729034e-01,  5.51132560e-01,\n",
              "        -1.97903335e-01,  1.69060230e-01, -6.20056570e-01,\n",
              "         1.79828361e-01, -7.46164322e-02, -2.30342180e-01,\n",
              "         7.97558606e-01, -7.41434932e-01,  1.99411440e+00,\n",
              "         6.56961799e-01,  3.96545827e-01, -8.86625767e-01,\n",
              "         2.65448123e-01,  1.67293668e-01, -3.47689003e-01,\n",
              "        -2.59923786e-02,  1.38658404e-01, -1.21179461e+00,\n",
              "        -1.28777206e-01, -4.02136832e-01,  2.62328744e-01,\n",
              "        -9.64091182e-01, -5.55963516e-01,  1.28559560e-01,\n",
              "         2.63345718e-01,  3.50206316e-01, -3.72865647e-01,\n",
              "        -1.19411373e+00,  4.62186217e-01, -3.84059578e-01,\n",
              "         3.94767493e-01,  3.72766912e-01,  3.71570170e-01,\n",
              "         1.36613131e-01, -2.62621164e-01, -2.14245057e+00,\n",
              "         5.50049305e-01,  7.39641905e-01, -7.96293020e-02,\n",
              "        -1.98433418e-02,  1.76227823e-01,  7.57878125e-01,\n",
              "         7.31684029e-01, -1.89038038e-01,  3.40435617e-02,\n",
              "        -9.25965235e-03,  1.95326433e-01,  3.44133019e-01,\n",
              "        -9.68146324e-01, -2.68450201e-01,  1.78549975e-01,\n",
              "         3.21900487e-01,  2.57815033e-01,  3.09372485e-01,\n",
              "        -7.70250559e-01,  5.63587904e-01,  6.65489614e-01,\n",
              "        -9.91455436e-01,  1.02112889e+00,  1.50594726e-01,\n",
              "         6.47836551e-03, -3.80379200e-01, -6.50488615e-01,\n",
              "         2.43402302e-01, -1.03696570e-01,  7.93860376e-01,\n",
              "        -2.69772470e-01, -1.65017992e-01, -4.86094594e-01,\n",
              "         1.04395881e-01, -1.11649014e-01,  6.51693046e-01,\n",
              "        -7.91390896e-01,  4.48558301e-01,  2.13461351e-02,\n",
              "        -9.06428695e-02,  2.50387877e-01, -3.11744958e-01,\n",
              "         5.23946807e-03, -4.57814515e-01,  4.28676516e-01,\n",
              "        -4.02170926e-01, -6.04204416e-01,  9.04155970e-02,\n",
              "         4.81900036e-01, -4.69021946e-01, -1.42482162e-01,\n",
              "         7.83109292e-02, -2.99774289e-01, -4.17517662e-01,\n",
              "         6.38866782e-01,  3.41171622e-01,  3.15708637e-01,\n",
              "        -1.38999373e-01,  6.09873950e-01,  3.62022340e-01,\n",
              "        -1.29482657e-01, -8.89018774e-02,  6.87107503e-01,\n",
              "        -7.93701053e-01, -1.12839542e-01, -3.92591894e-01,\n",
              "        -5.60842633e-01, -1.28005594e-01,  2.57107407e-01,\n",
              "        -3.95488679e-01, -9.14873302e-01,  2.13800073e-01,\n",
              "         1.30818799e-01,  1.39170140e-01,  2.98831731e-01,\n",
              "        -6.89837895e-03,  2.65916616e-01, -1.47676364e-01,\n",
              "         3.65066797e-01,  1.43565655e+00, -1.70892942e+00,\n",
              "         5.57856083e-01,  1.31661379e+00,  4.42001313e-01,\n",
              "        -1.29688993e-01,  4.25440758e-01, -1.42298490e-01,\n",
              "         6.93588704e-02, -6.99619055e-01,  1.75977603e-01,\n",
              "         7.58311391e-01, -4.19126391e-01,  1.48409319e+00,\n",
              "         3.69097769e-01, -5.65358639e-01, -1.35151219e+00,\n",
              "        -4.32918310e-01, -1.11563015e+00, -1.80826455e-01,\n",
              "         6.15414381e-01, -4.89835054e-01, -5.90908110e-01,\n",
              "        -8.58433396e-02,  3.81914735e-01, -4.45457727e-01,\n",
              "        -1.27614975e-01, -8.03718567e-01, -6.45216703e-01,\n",
              "         1.55931950e-01, -1.56743169e-01, -3.61993641e-01,\n",
              "         4.48992193e-01, -4.80334878e-01,  1.03653997e-01,\n",
              "        -6.65166020e-01,  7.19649255e-01, -1.07185215e-01,\n",
              "        -4.84489024e-01, -5.14890373e-01, -2.70723328e-02,\n",
              "         2.51099437e-01,  3.91077399e-01,  3.29472691e-01,\n",
              "        -8.78816605e-01, -1.01833783e-01, -2.74834484e-01,\n",
              "        -4.38041836e-01, -3.22403103e-01, -2.78685123e-01,\n",
              "         3.40882391e-01,  9.74685907e-01, -3.10757875e-01,\n",
              "         2.56660908e-01, -3.93197954e-01,  2.61590481e-01,\n",
              "         3.38934809e-02, -1.99398100e-01, -3.74470830e-01,\n",
              "         1.53405681e-01,  6.15613103e-01, -5.23301959e-01,\n",
              "        -1.10259032e+00,  1.78267390e-01,  5.25233865e-01,\n",
              "         3.34201068e-01,  8.04273307e-01, -4.38380182e-01,\n",
              "        -6.69485748e-01, -1.18678498e+00,  1.48296319e-02,\n",
              "        -3.53673577e-01, -2.99055278e-01,  3.68809640e-01,\n",
              "        -1.53804255e+00, -1.09063745e+00,  1.25312939e-01,\n",
              "         2.29759812e-01, -4.06290829e-01, -6.06626332e-01,\n",
              "        -3.14072967e-01,  1.91672504e-01,  4.74671543e-01,\n",
              "        -5.18260617e-03, -4.66833532e-01,  3.27520967e-01,\n",
              "        -2.50433326e-01, -9.34615374e-01, -7.95472711e-02,\n",
              "        -1.01556575e+00,  3.24517190e-01, -4.66680944e-01,\n",
              "         2.81854630e-01,  4.44167674e-01, -6.78920969e-02,\n",
              "         1.91952456e-02, -6.60366654e-01,  1.19742602e-01,\n",
              "         9.43931818e-01, -7.54317760e-01, -3.52673888e-01,\n",
              "         8.01947594e-01,  6.01032734e-01, -1.66689086e+00,\n",
              "        -2.67772049e-01,  3.44062299e-01,  8.99026871e-01,\n",
              "        -8.94207433e-02, -3.77111733e-01,  1.18420862e-01,\n",
              "        -6.11442566e-01,  5.54825664e-01, -1.09772050e+00,\n",
              "        -2.33488038e-01,  1.07259393e+00,  1.02108645e+00,\n",
              "        -2.23784357e-01,  1.82024520e-02, -8.82684112e-01,\n",
              "        -3.19229215e-02, -3.03122640e-01,  3.64839226e-01,\n",
              "         1.23860395e+00, -9.08824131e-02,  1.33255386e+00,\n",
              "        -3.00734460e-01,  1.69750303e-01, -8.60975504e-01,\n",
              "         8.39410186e-01, -3.35047156e-01,  5.83710670e-01,\n",
              "        -5.93800604e-01, -3.79651219e-01, -7.56000280e-02,\n",
              "         3.08651507e-01, -8.49291831e-02, -1.17527366e+00,\n",
              "        -2.30691031e-01, -2.35645562e-01, -1.26242667e-01,\n",
              "        -4.92432833e-01, -6.94005966e-01, -6.75359666e-02,\n",
              "         8.22624624e-01,  3.24340105e-01, -4.08919185e-01,\n",
              "         7.19335020e-01, -1.54861286e-01,  2.11351290e-01,\n",
              "         4.59151044e-02, -9.24564779e-01,  5.06545976e-03,\n",
              "         2.17214108e-01, -4.27243918e-01,  4.53718245e-01,\n",
              "         1.00019431e+00,  4.28890288e-01,  8.84761035e-01,\n",
              "        -3.17239836e-02, -1.35894433e-01,  2.33445436e-01,\n",
              "        -8.49851668e-02,  5.29072642e-01,  5.53925335e-01,\n",
              "        -2.84191929e-02,  1.01682663e-01, -6.47907197e-01,\n",
              "         8.07376564e-01, -6.98871493e-01, -1.12119019e-01,\n",
              "        -5.36379337e-01, -3.78002226e-02,  1.31888568e+00,\n",
              "         5.02878606e-01,  6.91094935e-01,  4.55827534e-01,\n",
              "        -1.37712777e+00, -9.57544148e-01,  3.52219008e-02,\n",
              "         4.54187572e-01,  1.61678270e-01,  2.22432703e-01,\n",
              "         2.61968285e-01, -1.66742623e-01, -6.73253953e-01,\n",
              "         5.02314806e-01, -2.93479115e-01,  1.91235676e-01,\n",
              "        -1.46728933e-01,  3.58252078e-01, -8.88832957e-02,\n",
              "         2.34232306e-01, -3.28631997e-01, -8.53637338e-01,\n",
              "        -3.45500708e-01,  9.26041305e-01,  9.95521694e-02,\n",
              "         4.45445061e-01, -1.14220023e+00, -4.87576351e-02,\n",
              "         1.18462585e-01,  7.58871078e-01,  1.57891944e-01,\n",
              "         1.55433968e-01, -5.83204746e-01,  1.21419120e+00,\n",
              "         6.39456570e-01,  1.61811501e-01,  2.86106229e-01,\n",
              "        -4.69271541e-01, -4.70093071e-01, -1.28024727e-01,\n",
              "        -6.49306893e-01, -2.73886055e-01, -5.01604319e-01,\n",
              "         8.27622294e-01,  7.72967994e-01,  3.52482870e-02,\n",
              "        -1.56059301e+00,  4.39549625e-01,  9.53154325e-01,\n",
              "         2.08709747e-01, -3.56367171e-01,  3.59558582e-01,\n",
              "        -8.27304602e-01, -4.27836418e-01,  1.25327438e-01,\n",
              "        -6.21944785e-01, -2.76858479e-01, -5.73874831e-01,\n",
              "        -7.11569488e-01, -8.26024890e-01,  4.93355095e-01,\n",
              "         5.54850042e-01,  4.43225875e-02,  2.35335857e-01,\n",
              "         3.74402076e-01,  3.70504230e-01,  1.16943836e+00,\n",
              "         4.16400969e-01,  1.97885847e+00,  4.84874882e-02,\n",
              "         3.15150917e-01,  3.62675190e-01, -5.23398221e-01,\n",
              "        -4.21546042e-01,  1.24659933e-01, -2.06241906e-01,\n",
              "        -1.94818273e-01, -4.34227258e-01,  2.30271280e-01,\n",
              "         3.28353435e-01, -7.39065230e-01, -8.00189972e-01,\n",
              "        -8.71123075e-01, -3.49427432e-01, -7.34063089e-02,\n",
              "        -1.86244413e-01,  7.58484483e-01,  5.01431346e-01,\n",
              "        -1.02500476e-01, -1.36253297e-01, -1.19302347e-02,\n",
              "        -1.32765509e-02,  4.90992397e-01, -7.77632654e-01,\n",
              "        -5.89798510e-01,  1.96453273e-01,  5.72941862e-02,\n",
              "        -1.86768860e-01, -8.01442504e-01,  2.98441321e-01,\n",
              "         4.93869275e-01, -1.14033246e+00, -5.70088066e-02,\n",
              "         3.52068365e-01,  2.21548378e-01, -5.71399212e-01,\n",
              "        -7.08316684e-01,  3.55434656e-01,  9.68455017e-01,\n",
              "        -9.87098739e-02, -3.03809196e-01,  9.63963568e-02,\n",
              "        -1.24072683e+00,  9.88067627e-01,  2.27915064e-01,\n",
              "        -6.04558662e-02, -5.56300998e-01, -1.38306707e-01,\n",
              "         8.05689991e-02, -2.57096022e-01,  2.26211682e-01]], dtype=float32)"
            ]
          },
          "metadata": {
            "tags": []
          },
          "execution_count": 63
        }
      ]
    },
    {
      "cell_type": "code",
      "metadata": {
        "colab": {
          "base_uri": "https://localhost:8080/"
        },
        "id": "MUZX-dQrBO8Z",
        "outputId": "86399099-0b74-4ece-d2de-10a81dde2562"
      },
      "source": [
        "!pip install faiss"
      ],
      "execution_count": null,
      "outputs": [
        {
          "output_type": "stream",
          "text": [
            "Collecting faiss\n",
            "  Downloading faiss-1.5.3-cp37-cp37m-manylinux1_x86_64.whl (4.7 MB)\n",
            "\u001b[K     |████████████████████████████████| 4.7 MB 4.0 MB/s \n",
            "\u001b[?25hRequirement already satisfied: numpy in /usr/local/lib/python3.7/dist-packages (from faiss) (1.19.5)\n",
            "Installing collected packages: faiss\n",
            "Successfully installed faiss-1.5.3\n"
          ],
          "name": "stdout"
        }
      ]
    },
    {
      "cell_type": "code",
      "metadata": {
        "colab": {
          "base_uri": "https://localhost:8080/"
        },
        "id": "FhDHFLU_CO_B",
        "outputId": "6afa547e-398d-49c5-cde8-dd69e8622c62"
      },
      "source": [
        "pip install faiss-cpu --no-cache"
      ],
      "execution_count": null,
      "outputs": [
        {
          "output_type": "stream",
          "text": [
            "Collecting faiss-cpu\n",
            "  Downloading faiss_cpu-1.7.1.post2-cp37-cp37m-manylinux_2_17_x86_64.manylinux2014_x86_64.whl (8.4 MB)\n",
            "\u001b[K     |████████████████████████████████| 8.4 MB 3.9 MB/s \n",
            "\u001b[?25hInstalling collected packages: faiss-cpu\n",
            "Successfully installed faiss-cpu-1.7.1.post2\n"
          ],
          "name": "stdout"
        }
      ]
    },
    {
      "cell_type": "code",
      "metadata": {
        "id": "pJpU5lvIASCq"
      },
      "source": [
        "#IndexFlatL2\n",
        "import faiss\n",
        "\n",
        "index = faiss.IndexFlatL2(768)\n",
        " "
      ],
      "execution_count": null,
      "outputs": []
    },
    {
      "cell_type": "code",
      "metadata": {
        "colab": {
          "base_uri": "https://localhost:8080/"
        },
        "id": "IwYC6_HzB3VL",
        "outputId": "9aa1c808-2dbc-45ca-80a1-013b706b4344"
      },
      "source": [
        "index.is_trained"
      ],
      "execution_count": null,
      "outputs": [
        {
          "output_type": "execute_result",
          "data": {
            "text/plain": [
              "True"
            ]
          },
          "metadata": {
            "tags": []
          },
          "execution_count": 86
        }
      ]
    },
    {
      "cell_type": "code",
      "metadata": {
        "id": "ooiNl4u3CwDR"
      },
      "source": [
        "array = []\n",
        "for m in lines:\n",
        "  a = model.encode([m])\n",
        "  array.append(a)"
      ],
      "execution_count": null,
      "outputs": []
    },
    {
      "cell_type": "code",
      "metadata": {
        "colab": {
          "base_uri": "https://localhost:8080/"
        },
        "id": "ofmI-rTLC-MT",
        "outputId": "7cae011a-1804-4d68-a791-6dc5d03de717"
      },
      "source": [
        "len(lines)"
      ],
      "execution_count": null,
      "outputs": [
        {
          "output_type": "execute_result",
          "data": {
            "text/plain": [
              "14504"
            ]
          },
          "metadata": {
            "tags": []
          },
          "execution_count": 66
        }
      ]
    },
    {
      "cell_type": "code",
      "metadata": {
        "colab": {
          "base_uri": "https://localhost:8080/"
        },
        "id": "ldOgE1GrV-pj",
        "outputId": "03d0e407-2506-4d36-d48b-e2ea4a06ea08"
      },
      "source": [
        "len(array)"
      ],
      "execution_count": null,
      "outputs": [
        {
          "output_type": "execute_result",
          "data": {
            "text/plain": [
              "14504"
            ]
          },
          "metadata": {
            "tags": []
          },
          "execution_count": 107
        }
      ]
    },
    {
      "cell_type": "code",
      "metadata": {
        "id": "89JaqOqLUunN"
      },
      "source": [
        "array2 = np.array(array)"
      ],
      "execution_count": null,
      "outputs": []
    },
    {
      "cell_type": "code",
      "metadata": {
        "id": "HK4b6djpXz3k"
      },
      "source": [
        "array2 = array2.reshape(14504, 768)"
      ],
      "execution_count": null,
      "outputs": []
    },
    {
      "cell_type": "code",
      "metadata": {
        "id": "SPWj3DloWCPM"
      },
      "source": [
        "index.add(array2)"
      ],
      "execution_count": null,
      "outputs": []
    },
    {
      "cell_type": "code",
      "metadata": {
        "colab": {
          "base_uri": "https://localhost:8080/"
        },
        "id": "13_6s2JdWdm1",
        "outputId": "1db6989c-7240-4f61-ef38-e42a1524ac95"
      },
      "source": [
        "index.ntotal"
      ],
      "execution_count": null,
      "outputs": [
        {
          "output_type": "execute_result",
          "data": {
            "text/plain": [
              "14504"
            ]
          },
          "metadata": {
            "tags": []
          },
          "execution_count": 109
        }
      ]
    },
    {
      "cell_type": "code",
      "metadata": {
        "id": "rHmMTi1BC-7Y"
      },
      "source": [
        "xq = model.encode(['i want my mamma'])"
      ],
      "execution_count": null,
      "outputs": []
    },
    {
      "cell_type": "code",
      "metadata": {
        "id": "ZGnzq7kUVSxR"
      },
      "source": [
        "k = 4"
      ],
      "execution_count": null,
      "outputs": []
    },
    {
      "cell_type": "code",
      "metadata": {
        "colab": {
          "base_uri": "https://localhost:8080/"
        },
        "id": "WgPs-BjFGYc0",
        "outputId": "716673f3-8ba7-4c2f-f0cd-f2e8226084f4"
      },
      "source": [
        "%%time\n",
        "D, I = index.search(xq, k)\n",
        "print(I)"
      ],
      "execution_count": null,
      "outputs": [
        {
          "output_type": "stream",
          "text": [
            "[[ 5562  4161 12901   727]]\n",
            "CPU times: user 6.03 ms, sys: 980 µs, total: 7.01 ms\n",
            "Wall time: 8.89 ms\n"
          ],
          "name": "stdout"
        }
      ]
    },
    {
      "cell_type": "code",
      "metadata": {
        "colab": {
          "base_uri": "https://localhost:8080/"
        },
        "id": "BJ5RotDfVQ3G",
        "outputId": "3795beb2-2409-4495-c123-b89b4f11100e"
      },
      "source": [
        "[f'{i}: {lines[i]}' for i in I[0]]"
      ],
      "execution_count": null,
      "outputs": [
        {
          "output_type": "execute_result",
          "data": {
            "text/plain": [
              "[\"5562: take into one's family.\",\n",
              " '4161: RT Jones analyst Juli Niemann said Grant was \"the one we were all pulling for.',\n",
              " '12901: We think they have the right to choose.',\n",
              " '727: And now it\\'s anything he wants to say,\" confirmed Stone County Nursing and Rehabilitation Center social director Alesha Badgley.']"
            ]
          },
          "metadata": {
            "tags": []
          },
          "execution_count": 125
        }
      ]
    },
    {
      "cell_type": "code",
      "metadata": {
        "id": "woA9DF2ZVdRP"
      },
      "source": [
        "nlist = 50\n",
        "quantizer = faiss.IndexFlatL2(768)\n",
        "index = faiss.IndexIVFFlat(quantizer, 768, nlist)"
      ],
      "execution_count": null,
      "outputs": []
    },
    {
      "cell_type": "code",
      "metadata": {
        "colab": {
          "base_uri": "https://localhost:8080/"
        },
        "id": "xlF8InjGYq2y",
        "outputId": "e2f611b3-ab8c-40ab-fb93-f9b2221eb27f"
      },
      "source": [
        "index.is_trained"
      ],
      "execution_count": null,
      "outputs": [
        {
          "output_type": "execute_result",
          "data": {
            "text/plain": [
              "False"
            ]
          },
          "metadata": {
            "tags": []
          },
          "execution_count": 116
        }
      ]
    },
    {
      "cell_type": "code",
      "metadata": {
        "id": "v9A86JOgYu6b"
      },
      "source": [
        "index.train(array2)"
      ],
      "execution_count": null,
      "outputs": []
    },
    {
      "cell_type": "code",
      "metadata": {
        "colab": {
          "base_uri": "https://localhost:8080/"
        },
        "id": "i0J39XnSY2Ew",
        "outputId": "6ab32c1c-ab96-4335-d8e1-e52400fa9cc2"
      },
      "source": [
        "index.is_trained"
      ],
      "execution_count": null,
      "outputs": [
        {
          "output_type": "execute_result",
          "data": {
            "text/plain": [
              "True"
            ]
          },
          "metadata": {
            "tags": []
          },
          "execution_count": 128
        }
      ]
    },
    {
      "cell_type": "code",
      "metadata": {
        "colab": {
          "base_uri": "https://localhost:8080/"
        },
        "id": "ScqOyRQ5Y3Mx",
        "outputId": "da45333e-01f4-4a6b-a966-8151f0db5f29"
      },
      "source": [
        "index.add(array2)\n",
        "index.ntotal"
      ],
      "execution_count": null,
      "outputs": [
        {
          "output_type": "execute_result",
          "data": {
            "text/plain": [
              "14504"
            ]
          },
          "metadata": {
            "tags": []
          },
          "execution_count": 129
        }
      ]
    },
    {
      "cell_type": "code",
      "metadata": {
        "colab": {
          "base_uri": "https://localhost:8080/"
        },
        "id": "JeF84qXXY8Qu",
        "outputId": "9fb06ebf-0ff6-4379-f5ce-16b975a07a80"
      },
      "source": [
        "%%time\n",
        "D, I = index.search(xq, k)\n",
        "print(I)"
      ],
      "execution_count": null,
      "outputs": [
        {
          "output_type": "stream",
          "text": [
            "[[ 5562  4161 12901   727]]\n",
            "CPU times: user 6.83 ms, sys: 14 µs, total: 6.84 ms\n",
            "Wall time: 16.1 ms\n"
          ],
          "name": "stdout"
        }
      ]
    },
    {
      "cell_type": "code",
      "metadata": {
        "id": "VlqaZOnBZFgV"
      },
      "source": [
        "index.nprobe = 10"
      ],
      "execution_count": null,
      "outputs": []
    },
    {
      "cell_type": "code",
      "metadata": {
        "colab": {
          "base_uri": "https://localhost:8080/"
        },
        "id": "WXZ3m6Avazv1",
        "outputId": "18d58db5-18d5-4fdf-d4b6-fd0a4a14793f"
      },
      "source": [
        "%%time\n",
        "D, I = index.search(xq, k)\n",
        "print(I)\n"
      ],
      "execution_count": null,
      "outputs": [
        {
          "output_type": "stream",
          "text": [
            "[[ 5562  4161 12901   727]]\n",
            "CPU times: user 5.5 ms, sys: 997 µs, total: 6.5 ms\n",
            "Wall time: 14.6 ms\n"
          ],
          "name": "stdout"
        }
      ]
    },
    {
      "cell_type": "code",
      "metadata": {
        "id": "o8_HH-Vba1pH"
      },
      "source": [
        "m = 8\n",
        "bits = 8\n",
        "\n",
        "quantizer = faiss.IndexFlatL2(768)\n",
        "index = faiss.IndexIVFPQ(quantizer, 768, nlist, m, bits)"
      ],
      "execution_count": null,
      "outputs": []
    },
    {
      "cell_type": "code",
      "metadata": {
        "colab": {
          "base_uri": "https://localhost:8080/"
        },
        "id": "TUpHtRGIdQ2m",
        "outputId": "2ebfaf55-e8f0-4f45-bb31-aea1907088e6"
      },
      "source": [
        "index.is_trained"
      ],
      "execution_count": null,
      "outputs": [
        {
          "output_type": "execute_result",
          "data": {
            "text/plain": [
              "True"
            ]
          },
          "metadata": {
            "tags": []
          },
          "execution_count": 140
        }
      ]
    },
    {
      "cell_type": "code",
      "metadata": {
        "id": "WV8BQ_hhdUgk"
      },
      "source": [
        "index.train(array2)"
      ],
      "execution_count": null,
      "outputs": []
    },
    {
      "cell_type": "code",
      "metadata": {
        "id": "eHESk5HYdXdL"
      },
      "source": [
        "index.add(array2)"
      ],
      "execution_count": null,
      "outputs": []
    },
    {
      "cell_type": "code",
      "metadata": {
        "colab": {
          "base_uri": "https://localhost:8080/"
        },
        "id": "RHn4L70mdbFU",
        "outputId": "c81ddec6-fb57-4a03-f465-92d2a82db027"
      },
      "source": [
        "\n",
        "D, I = index.search(xq, k)\n",
        "print(I)"
      ],
      "execution_count": null,
      "outputs": [
        {
          "output_type": "stream",
          "text": [
            "[[14286  2385  3632  6162]]\n"
          ],
          "name": "stdout"
        }
      ]
    },
    {
      "cell_type": "code",
      "metadata": {
        "colab": {
          "base_uri": "https://localhost:8080/"
        },
        "id": "urnQIrhqddqW",
        "outputId": "3a2793a2-3078-429b-b889-d3729b206ed9"
      },
      "source": [
        "[f'{i}: {lines[i]}' for i in I[0]]"
      ],
      "execution_count": null,
      "outputs": [
        {
          "output_type": "execute_result",
          "data": {
            "text/plain": [
              "['14286: give out, allow to have',\n",
              " '2385: legally approve or ratify a person for a position',\n",
              " '3632: We intend to appeal vigorously and still expect to be vindicated ultimately.',\n",
              " '6162: the act of officially gaining entrance to somewhere']"
            ]
          },
          "metadata": {
            "tags": []
          },
          "execution_count": 143
        }
      ]
    }
  ]
}